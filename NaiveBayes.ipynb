{
 "cells": [
  {
   "attachments": {},
   "cell_type": "markdown",
   "metadata": {},
   "source": [
    "Creating the dictionary from the train data\n"
   ]
  },
  {
   "cell_type": "code",
   "execution_count": 2,
   "metadata": {},
   "outputs": [],
   "source": [
    "from sklearn.feature_extraction.text import CountVectorizer\n",
    "\n",
    "class CreateDictionary():\n",
    "    def __init__(self,max_features=None,max_df=1.0,min_df=1):\n",
    "        self.vectorizer=CountVectorizer(max_features=max_features,max_df=max_df,min_df=min_df)\n",
    "        self.vocab=None\n",
    "    \n",
    "    def fit(self,text):\n",
    "        self.vectorizer.fit(text)\n",
    "        self.vocab=self.vectorizer.vocabulary_\n",
    "\n",
    "def text_to_vector(text,vocabulary):\n",
    "    vector=[0]*len(vocabulary)\n",
    "    for word in text.split():\n",
    "        if word in vocabulary:\n",
    "            vector[list(vocabulary.keys()).index(word)]=1\n",
    "    return vector\n",
    "  "
   ]
  },
  {
   "attachments": {},
   "cell_type": "markdown",
   "metadata": {},
   "source": [
    "Reading the data , and creating the vectors\n"
   ]
  },
  {
   "cell_type": "code",
   "execution_count": 39,
   "metadata": {},
   "outputs": [],
   "source": [
    "import os\n",
    "\n",
    "class DataManipulation():\n",
    "    def __init__(self,positive_reviews_dir,negative_reviews_dir,dictionary):\n",
    "        self.negative_reviews_dir=negative_reviews_dir\n",
    "        self.positive_reviews_dir=positive_reviews_dir\n",
    "        self.positive_reviews_files = os.listdir(positive_reviews_dir)\n",
    "        self.negative_reviews_files= os.listdir(negative_reviews_dir)\n",
    "        self.dictionary=dictionary\n",
    "    \n",
    "    def cdictionary(self):\n",
    "        text = []\n",
    "        dictionary=CreateDictionary(1000,0.8,4)\n",
    "        for file in self.positive_reviews_files:\n",
    "            with open(os.path.join(self.positive_reviews_dir, file), \"r\", encoding='utf-8-sig') as f:\n",
    "                text.append(f.read())\n",
    "        for file in self.negative_reviews_files:\n",
    "            with open(os.path.join(self.negative_reviews_dir, file), \"r\", encoding='utf-8-sig') as f:\n",
    "                text.append(f.read())\n",
    "        dictionary.fit(text)\n",
    "        self.dictionary=dictionary\n",
    "        return dictionary\n",
    "\n",
    "    def vector(self):\n",
    "        positive=[]\n",
    "        for filename in self.positive_reviews_files:\n",
    "            if filename.endswith(\".txt\"):\n",
    "                file_path = os.path.join(self.positive_reviews_dir, filename)\n",
    "                with open(file_path, 'r',encoding='utf-8') as file:\n",
    "                    text = file.read()\n",
    "                    positive.append(text_to_vector(text,self.dictionary.vocab))\n",
    "        negative=[]\n",
    "        for filename in self.negative_reviews_files:\n",
    "            if filename.endswith(\".txt\"):\n",
    "                file_path = os.path.join(self.negative_reviews_dir, filename)\n",
    "                with open(file_path, 'r',encoding='utf-8') as file:\n",
    "                    text = file.read()\n",
    "                    negative.append(text_to_vector(text,self.dictionary.vocab)) \n",
    "        return negative,positive\n",
    "\n",
    "\n",
    "\n",
    "\n",
    "\n",
    "\n"
   ]
  },
  {
   "attachments": {},
   "cell_type": "markdown",
   "metadata": {},
   "source": [
    "Multinomial Naive Bayes"
   ]
  },
  {
   "cell_type": "code",
   "execution_count": 1,
   "metadata": {},
   "outputs": [],
   "source": [
    "\n",
    "\n",
    "\n",
    "class MultinomialNaiveBayes:\n",
    "    def __init__(self):\n",
    "        self.class_word_freq = {}\n",
    "        self.class_priors = {}\n",
    "        \n",
    "    def fit(self, X, y):\n",
    "        for xi, label in zip(X, y):\n",
    "            if label not in self.class_word_freq:\n",
    "                self.class_word_freq[label] = [0] * len(xi)\n",
    "            for i, word in enumerate(xi):\n",
    "                if word == 1:\n",
    "                    self.class_word_freq[label][i] += 1\n",
    "        \n",
    "       \n",
    "        count=0\n",
    "        for (yi) in y:\n",
    "            if (yi==1):\n",
    "                count=count+1\n",
    "        self.class_priors = {0:(len(y)-count)/(len(y)),1:count/len(y)}\n",
    "        \n",
    "    def predict(self, X):\n",
    "        predictions = []\n",
    "        for xi in X:\n",
    "            posteriors = []\n",
    "            for label, word_freq in self.class_word_freq.items():\n",
    "                likelihood = 1\n",
    "                for i, word in enumerate(xi):\n",
    "                    if word == 1:\n",
    "                        likelihood *= word_freq[i] / sum(word_freq)\n",
    "                prior = self.class_priors[label]\n",
    "                posterior = likelihood * prior\n",
    "                posteriors.append((posterior, label))\n",
    "            predictions.append(sorted(posteriors, reverse=True)[0][1])\n",
    "        return predictions\n",
    "\n",
    "\n",
    "\n",
    "\n",
    "\n",
    "\n",
    "\n",
    "\n"
   ]
  },
  {
   "attachments": {},
   "cell_type": "markdown",
   "metadata": {},
   "source": [
    "Tο directory και η δημιουργία του λεξικού "
   ]
  },
  {
   "cell_type": "code",
   "execution_count": 29,
   "metadata": {},
   "outputs": [],
   "source": [
    "\n",
    "positive_reviews_dir_train = '../train/pos'\n",
    "negative_reviews_dir_train='../train/neg'\n",
    "Xtr=DataManipulation(positive_reviews_dir_train,negative_reviews_dir_train,None)\n",
    "positive,negative=Xtr.vector()\n",
    "X_train=negative+positive\n",
    "Y_train=[1]*len(negative)+[0]*len(positive)\n",
    "\n",
    "\n",
    "\n"
   ]
  },
  {
   "cell_type": "code",
   "execution_count": null,
   "metadata": {},
   "outputs": [],
   "source": [
    "X_train=negative+positive\n",
    "Y_train=[1]*len(negative)+[0]*len(positive)\n",
    "positive_reviews_dir_test='../test/pos'\n",
    "negative_reviews_dir_test='../test/neg'\n",
    "Xts=DataManipulation(positive_reviews_dir_test,negative_reviews_dir_test,Xtr.dictionary)\n",
    "positivet,negativet=Xts.vector()\n",
    "X_test=negativet+positivet\n",
    "Y_test=[1]*len(negativet)+[0]*len(positivet)\n",
    "   "
   ]
  },
  {
   "cell_type": "code",
   "execution_count": 67,
   "metadata": {},
   "outputs": [],
   "source": [
    "Y_test=[1]*len(negativet)+[0]*len(positivet)\n",
    "mnb=MultinomialNaiveBayes()\n",
    "mnb.fit(X_train,Y_train)\n",
    "predictions=mnb.predict(X_test)\n",
    "\n"
   ]
  },
  {
   "attachments": {},
   "cell_type": "markdown",
   "metadata": {},
   "source": [
    "Το report "
   ]
  },
  {
   "cell_type": "code",
   "execution_count": 111,
   "metadata": {},
   "outputs": [
    {
     "name": "stdout",
     "output_type": "stream",
     "text": [
      "              precision    recall  f1-score   support\n",
      "\n",
      "           0       0.81      0.75      0.78     12500\n",
      "           1       0.77      0.82      0.79     12500\n",
      "\n",
      "    accuracy                           0.78     25000\n",
      "   macro avg       0.79      0.78      0.78     25000\n",
      "weighted avg       0.79      0.78      0.78     25000\n",
      "\n",
      "              precision    recall  f1-score   support\n",
      "\n",
      "           0       0.82      0.74      0.78     12500\n",
      "           1       0.76      0.84      0.80     12500\n",
      "\n",
      "    accuracy                           0.79     25000\n",
      "   macro avg       0.79      0.79      0.79     25000\n",
      "weighted avg       0.79      0.79      0.79     25000\n",
      "\n"
     ]
    }
   ],
   "source": [
    "from sklearn.metrics import classification_report\n",
    "\n",
    "print(classification_report(Y_test, mnb.predict(X_test)))\n",
    "print(classification_report(Y_train,mnb.predict(X_train)))"
   ]
  }
 ],
 "metadata": {
  "kernelspec": {
   "display_name": "Python 3",
   "language": "python",
   "name": "python3"
  },
  "language_info": {
   "codemirror_mode": {
    "name": "ipython",
    "version": 3
   },
   "file_extension": ".py",
   "mimetype": "text/x-python",
   "name": "python",
   "nbconvert_exporter": "python",
   "pygments_lexer": "ipython3",
   "version": "3.10.7 (tags/v3.10.7:6cc6b13, Sep  5 2022, 14:08:36) [MSC v.1933 64 bit (AMD64)]"
  },
  "orig_nbformat": 4,
  "vscode": {
   "interpreter": {
    "hash": "701e1fcea54ac11cb966062d7e648a637e608fa405bae1a720dafde1cab3fe4a"
   }
  }
 },
 "nbformat": 4,
 "nbformat_minor": 2
}
